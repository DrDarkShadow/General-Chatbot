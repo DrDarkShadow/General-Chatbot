{
 "cells": [
  {
   "cell_type": "code",
   "execution_count": 1,
   "metadata": {},
   "outputs": [
    {
     "data": {
      "text/plain": [
       "'c:\\\\Users\\\\PRATEEK G\\\\Desktop\\\\Chatbot'"
      ]
     },
     "execution_count": 1,
     "metadata": {},
     "output_type": "execute_result"
    }
   ],
   "source": [
    "%pwd"
   ]
  },
  {
   "cell_type": "code",
   "execution_count": 19,
   "metadata": {},
   "outputs": [],
   "source": [
    "import os\n",
    "from openai import AzureOpenAI\n",
    "from dotenv import load_dotenv\n",
    "\n",
    "# Load environment variables from .env file\n",
    "load_dotenv(override=True)\n",
    "\n",
    "# Configure Azure OpenAI client\n",
    "client = AzureOpenAI(\n",
    "  azure_endpoint = os.getenv(\"AZURE_OPENAI_ENDPOINT\"), \n",
    "  api_key=os.getenv(\"AZURE_OPENAI_API_KEY\"),  \n",
    "  api_version=\"2023-09-01-preview\"\n",
    ")\n"
   ]
  },
  {
   "cell_type": "code",
   "execution_count": 20,
   "metadata": {},
   "outputs": [],
   "source": [
    "\n",
    "def chat_with_bot(user_input):\n",
    "    try:\n",
    "        response = client.chat.completions.create(\n",
    "            model=\"gpt-4o\",\n",
    "            messages=[\n",
    "                {\"role\": \"system\", \"content\": \"You are a helpful assistant.\"},\n",
    "                {\"role\": \"user\", \"content\": user_input}\n",
    "            ],\n",
    "            temperature=0.7,\n",
    "            max_tokens=800\n",
    "        )\n",
    "        return response.choices[0].message.content\n",
    "    except Exception as e:\n",
    "        return f\"Error: {str(e)}\"\n",
    "\n"
   ]
  },
  {
   "cell_type": "code",
   "execution_count": 21,
   "metadata": {},
   "outputs": [
    {
     "name": "stdout",
     "output_type": "stream",
     "text": [
      "Bot: Hello! How can I help you today? (Type 'quit' to exit)\n",
      "Bot: Hello! How can I assist you today? 😊\n",
      "Bot: A **human being** is a member of the species *Homo sapiens*, a highly intelligent and social species of primates belonging to the family Hominidae (great apes). Humans are distinguished by their advanced cognitive abilities, capacity for abstract thought, use of complex language, and ability to create and utilize tools and technology. Below are some key aspects of human beings:\n",
      "\n",
      "### Biological Characteristics:\n",
      "1. **Anatomy**:\n",
      "   - Humans are bipedal, meaning they walk upright on two legs.\n",
      "   - They have opposable thumbs that allow for precise grip and manipulation of objects.\n",
      "   - The human brain is highly developed, particularly the neocortex, enabling advanced reasoning, problem-solving, and creativity.\n",
      "\n",
      "2. **Genetics**:\n",
      "   - Humans share about 98-99% of their DNA with chimpanzees, their closest living relatives.\n",
      "   - The human genome contains approximately 20,000-25,000 genes.\n",
      "\n",
      "3. **Life Cycle**:\n",
      "   - Humans typically go through stages of development: infancy, childhood, adolescence, adulthood, and old age.\n",
      "   - They reproduce sexually, with offspring developing inside the mother's womb (gestation period of about 9 months).\n",
      "\n",
      "---\n",
      "\n",
      "### Psychological and Cognitive Traits:\n",
      "1. **Consciousness**:\n",
      "   - Humans are self-aware, capable of introspection, and can think about their own thoughts and existence.\n",
      "\n",
      "2. **Language**:\n",
      "   - They use complex languages for communication, both spoken and written, and can convey abstract ideas, emotions, and knowledge.\n",
      "\n",
      "3. **Emotions**:\n",
      "   - Humans experience a wide range of emotions (e.g., happiness, sadness, anger, love) and form deep emotional connections with others.\n",
      "\n",
      "4. **Culture and Learning**:\n",
      "   - Humans have the ability to learn from experiences and pass on knowledge through teaching and cultural transmission.\n",
      "   - They create art, music, literature, philosophy, and religion, reflecting their creativity and search for meaning.\n",
      "\n",
      "---\n",
      "\n",
      "### Social and Cultural Aspects:\n",
      "1. **Social Behavior**:\n",
      "   - Humans are inherently social beings, forming families, communities, and larger societies.\n",
      "   - They rely on cooperation and shared goals, often forming complex social structures like governments, economies, and organizations.\n",
      "\n",
      "2. **Morality and Ethics**:\n",
      "   - Humans develop moral codes and ethical systems that guide their behavior and interactions with others.\n",
      "\n",
      "3. **Technology**:\n",
      "   - Humans have developed tools and technologies to adapt to their environment and improve their quality of life, from stone tools in prehistoric times to advanced digital technologies today.\n",
      "\n",
      "---\n",
      "\n",
      "### Philosophical Perspective:\n",
      "In philosophy, human beings are often considered as both biological and spiritual entities. Questions about what it means to be human often delve into issues of purpose, free will, consciousness, and the nature of existence.\n",
      "\n",
      "### Summary:\n",
      "A human being is a complex combination of biology, cognition, and culture. They are unique in their ability to think abstractly, communicate symbolically, and shape their environment through innovation and creativity.\n",
      "Bot: Goodbye!\n"
     ]
    }
   ],
   "source": [
    "# Simple chat interface\n",
    "def start_chat():\n",
    "    print(\"Bot: Hello! How can I help you today? (Type 'quit' to exit)\")\n",
    "    while True:\n",
    "        user_input = input(\"You: \")\n",
    "        if user_input.lower() == 'quit':\n",
    "            print(\"Bot: Goodbye!\")\n",
    "            break\n",
    "        response = chat_with_bot(user_input)\n",
    "        print(\"Bot:\", response)\n",
    "\n",
    "# Start the chat\n",
    "start_chat()"
   ]
  },
  {
   "cell_type": "code",
   "execution_count": null,
   "metadata": {},
   "outputs": [],
   "source": []
  }
 ],
 "metadata": {
  "kernelspec": {
   "display_name": "base",
   "language": "python",
   "name": "python3"
  },
  "language_info": {
   "codemirror_mode": {
    "name": "ipython",
    "version": 3
   },
   "file_extension": ".py",
   "mimetype": "text/x-python",
   "name": "python",
   "nbconvert_exporter": "python",
   "pygments_lexer": "ipython3",
   "version": "3.12.3"
  }
 },
 "nbformat": 4,
 "nbformat_minor": 2
}
